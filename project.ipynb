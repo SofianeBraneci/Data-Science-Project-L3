{
 "cells": [
  {
   "cell_type": "markdown",
   "metadata": {},
   "source": [
    "<h1 align=\"center\">Projet Data Science: Classifiaction de la dataset MNIST</h1> \n",
    "<h3 align=\"center\">Réalisé par BRANECI Sofiane & HAMDAD Khellaf </h3>\n"
   ]
  },
  {
   "cell_type": "markdown",
   "metadata": {},
   "source": [
    "### Objectif: Réaliser des expérimentations avec divers classifieurs et diffrents paramétrage.\n"
   ]
  },
  {
   "cell_type": "markdown",
   "metadata": {},
   "source": [
    "<p><b>MNIST: est une base de données qui contient 70,000 images de chiffre écrit à la main elle était utilisé pour entrainer un réseau de neurones à Convolution(CNN), par Yann LeCun<b/</p> \n",
    "<p> <b> 60,000 images sont utiliser pour la phase d'entrainement et 10,000 pour la phase de test</b> </p> \n",
    " \n",
    "<a href=\"http://yann.lecun.com/exdb/publis/index.html#lecun-98\"> reférence</a>\n"
   ]
  },
  {
   "cell_type": "code",
   "execution_count": 1,
   "metadata": {},
   "outputs": [],
   "source": [
    "# importing the libraries\n",
    "import numpy as np\n",
    "import pandas as pd \n",
    "import matplotlib.pyplot as plt\n",
    "%load_ext autoreload\n",
    "import Classifiers as cl\n",
    "import utils \n",
    "import evaluation as evals"
   ]
  },
  {
   "cell_type": "code",
   "execution_count": 2,
   "metadata": {},
   "outputs": [],
   "source": [
    "np.random.seed(42)"
   ]
  },
  {
   "cell_type": "markdown",
   "metadata": {},
   "source": [
    "#### Loading the data"
   ]
  },
  {
   "cell_type": "code",
   "execution_count": 3,
   "metadata": {},
   "outputs": [
    {
     "name": "stderr",
     "output_type": "stream",
     "text": [
      "D:\\Anaconda\\lib\\site-packages\\pandas\\io\\parsers.py:702: UserWarning: Duplicate names specified. This will raise an error in the future.\n",
      "  return _read(filepath_or_buffer, kwds)\n"
     ]
    }
   ],
   "source": [
    "colums = pd.read_csv(\"names.csv\", sep=';')\n",
    "train_data = pd.read_csv(\"train.csv\", sep=\";\", names=colums)\n",
    "test_data = pd.read_csv(\"test.csv\", sep=\";\", names=colums)"
   ]
  },
  {
   "cell_type": "code",
   "execution_count": 4,
   "metadata": {},
   "outputs": [
    {
     "data": {
      "text/html": [
       "<div>\n",
       "<style scoped>\n",
       "    .dataframe tbody tr th:only-of-type {\n",
       "        vertical-align: middle;\n",
       "    }\n",
       "\n",
       "    .dataframe tbody tr th {\n",
       "        vertical-align: top;\n",
       "    }\n",
       "\n",
       "    .dataframe thead th {\n",
       "        text-align: right;\n",
       "    }\n",
       "</style>\n",
       "<table border=\"1\" class=\"dataframe\">\n",
       "  <thead>\n",
       "    <tr style=\"text-align: right;\">\n",
       "      <th></th>\n",
       "      <th>ident</th>\n",
       "      <th>1x1</th>\n",
       "      <th>1x2</th>\n",
       "      <th>1x3</th>\n",
       "      <th>1x4</th>\n",
       "      <th>1x5</th>\n",
       "      <th>1x6</th>\n",
       "      <th>1x7</th>\n",
       "      <th>1x8</th>\n",
       "      <th>1x9</th>\n",
       "      <th>...</th>\n",
       "      <th>28x20</th>\n",
       "      <th>28x21</th>\n",
       "      <th>28x22</th>\n",
       "      <th>28x23</th>\n",
       "      <th>28x24</th>\n",
       "      <th>28x25</th>\n",
       "      <th>28x26</th>\n",
       "      <th>28x27</th>\n",
       "      <th>28x28</th>\n",
       "      <th>label</th>\n",
       "    </tr>\n",
       "  </thead>\n",
       "  <tbody>\n",
       "    <tr>\n",
       "      <th>0</th>\n",
       "      <td>10001</td>\n",
       "      <td>0</td>\n",
       "      <td>0</td>\n",
       "      <td>0</td>\n",
       "      <td>0</td>\n",
       "      <td>0</td>\n",
       "      <td>0</td>\n",
       "      <td>0</td>\n",
       "      <td>0</td>\n",
       "      <td>0</td>\n",
       "      <td>...</td>\n",
       "      <td>0</td>\n",
       "      <td>0</td>\n",
       "      <td>0</td>\n",
       "      <td>0</td>\n",
       "      <td>0</td>\n",
       "      <td>0</td>\n",
       "      <td>0</td>\n",
       "      <td>0</td>\n",
       "      <td>0</td>\n",
       "      <td>-1</td>\n",
       "    </tr>\n",
       "    <tr>\n",
       "      <th>1</th>\n",
       "      <td>10002</td>\n",
       "      <td>0</td>\n",
       "      <td>0</td>\n",
       "      <td>0</td>\n",
       "      <td>0</td>\n",
       "      <td>0</td>\n",
       "      <td>0</td>\n",
       "      <td>0</td>\n",
       "      <td>0</td>\n",
       "      <td>0</td>\n",
       "      <td>...</td>\n",
       "      <td>0</td>\n",
       "      <td>0</td>\n",
       "      <td>0</td>\n",
       "      <td>0</td>\n",
       "      <td>0</td>\n",
       "      <td>0</td>\n",
       "      <td>0</td>\n",
       "      <td>0</td>\n",
       "      <td>0</td>\n",
       "      <td>-1</td>\n",
       "    </tr>\n",
       "    <tr>\n",
       "      <th>2</th>\n",
       "      <td>10003</td>\n",
       "      <td>0</td>\n",
       "      <td>0</td>\n",
       "      <td>0</td>\n",
       "      <td>0</td>\n",
       "      <td>0</td>\n",
       "      <td>0</td>\n",
       "      <td>0</td>\n",
       "      <td>0</td>\n",
       "      <td>0</td>\n",
       "      <td>...</td>\n",
       "      <td>0</td>\n",
       "      <td>0</td>\n",
       "      <td>0</td>\n",
       "      <td>0</td>\n",
       "      <td>0</td>\n",
       "      <td>0</td>\n",
       "      <td>0</td>\n",
       "      <td>0</td>\n",
       "      <td>0</td>\n",
       "      <td>-1</td>\n",
       "    </tr>\n",
       "    <tr>\n",
       "      <th>3</th>\n",
       "      <td>10004</td>\n",
       "      <td>0</td>\n",
       "      <td>0</td>\n",
       "      <td>0</td>\n",
       "      <td>0</td>\n",
       "      <td>0</td>\n",
       "      <td>0</td>\n",
       "      <td>0</td>\n",
       "      <td>0</td>\n",
       "      <td>0</td>\n",
       "      <td>...</td>\n",
       "      <td>0</td>\n",
       "      <td>0</td>\n",
       "      <td>0</td>\n",
       "      <td>0</td>\n",
       "      <td>0</td>\n",
       "      <td>0</td>\n",
       "      <td>0</td>\n",
       "      <td>0</td>\n",
       "      <td>0</td>\n",
       "      <td>-1</td>\n",
       "    </tr>\n",
       "    <tr>\n",
       "      <th>4</th>\n",
       "      <td>10005</td>\n",
       "      <td>0</td>\n",
       "      <td>0</td>\n",
       "      <td>0</td>\n",
       "      <td>0</td>\n",
       "      <td>0</td>\n",
       "      <td>0</td>\n",
       "      <td>0</td>\n",
       "      <td>0</td>\n",
       "      <td>0</td>\n",
       "      <td>...</td>\n",
       "      <td>0</td>\n",
       "      <td>0</td>\n",
       "      <td>0</td>\n",
       "      <td>0</td>\n",
       "      <td>0</td>\n",
       "      <td>0</td>\n",
       "      <td>0</td>\n",
       "      <td>0</td>\n",
       "      <td>0</td>\n",
       "      <td>-1</td>\n",
       "    </tr>\n",
       "  </tbody>\n",
       "</table>\n",
       "<p>5 rows × 786 columns</p>\n",
       "</div>"
      ],
      "text/plain": [
       "   ident  1x1  1x2  1x3  1x4  1x5  1x6  1x7  1x8  1x9  ...  28x20  28x21  \\\n",
       "0  10001    0    0    0    0    0    0    0    0    0  ...      0      0   \n",
       "1  10002    0    0    0    0    0    0    0    0    0  ...      0      0   \n",
       "2  10003    0    0    0    0    0    0    0    0    0  ...      0      0   \n",
       "3  10004    0    0    0    0    0    0    0    0    0  ...      0      0   \n",
       "4  10005    0    0    0    0    0    0    0    0    0  ...      0      0   \n",
       "\n",
       "   28x22  28x23  28x24  28x25  28x26  28x27  28x28  label  \n",
       "0      0      0      0      0      0      0      0     -1  \n",
       "1      0      0      0      0      0      0      0     -1  \n",
       "2      0      0      0      0      0      0      0     -1  \n",
       "3      0      0      0      0      0      0      0     -1  \n",
       "4      0      0      0      0      0      0      0     -1  \n",
       "\n",
       "[5 rows x 786 columns]"
      ]
     },
     "execution_count": 4,
     "metadata": {},
     "output_type": "execute_result"
    }
   ],
   "source": [
    "train_data.head()"
   ]
  },
  {
   "cell_type": "code",
   "execution_count": 5,
   "metadata": {},
   "outputs": [
    {
     "data": {
      "text/html": [
       "<div>\n",
       "<style scoped>\n",
       "    .dataframe tbody tr th:only-of-type {\n",
       "        vertical-align: middle;\n",
       "    }\n",
       "\n",
       "    .dataframe tbody tr th {\n",
       "        vertical-align: top;\n",
       "    }\n",
       "\n",
       "    .dataframe thead th {\n",
       "        text-align: right;\n",
       "    }\n",
       "</style>\n",
       "<table border=\"1\" class=\"dataframe\">\n",
       "  <thead>\n",
       "    <tr style=\"text-align: right;\">\n",
       "      <th></th>\n",
       "      <th>ident</th>\n",
       "      <th>1x1</th>\n",
       "      <th>1x2</th>\n",
       "      <th>1x3</th>\n",
       "      <th>1x4</th>\n",
       "      <th>1x5</th>\n",
       "      <th>1x6</th>\n",
       "      <th>1x7</th>\n",
       "      <th>1x8</th>\n",
       "      <th>1x9</th>\n",
       "      <th>...</th>\n",
       "      <th>28x20</th>\n",
       "      <th>28x21</th>\n",
       "      <th>28x22</th>\n",
       "      <th>28x23</th>\n",
       "      <th>28x24</th>\n",
       "      <th>28x25</th>\n",
       "      <th>28x26</th>\n",
       "      <th>28x27</th>\n",
       "      <th>28x28</th>\n",
       "      <th>label</th>\n",
       "    </tr>\n",
       "  </thead>\n",
       "  <tbody>\n",
       "    <tr>\n",
       "      <th>0</th>\n",
       "      <td>20001</td>\n",
       "      <td>0</td>\n",
       "      <td>0</td>\n",
       "      <td>0</td>\n",
       "      <td>0</td>\n",
       "      <td>0</td>\n",
       "      <td>0</td>\n",
       "      <td>0</td>\n",
       "      <td>0</td>\n",
       "      <td>0</td>\n",
       "      <td>...</td>\n",
       "      <td>0</td>\n",
       "      <td>0</td>\n",
       "      <td>0</td>\n",
       "      <td>0</td>\n",
       "      <td>0</td>\n",
       "      <td>0</td>\n",
       "      <td>0</td>\n",
       "      <td>0</td>\n",
       "      <td>0</td>\n",
       "      <td>-1</td>\n",
       "    </tr>\n",
       "    <tr>\n",
       "      <th>1</th>\n",
       "      <td>20002</td>\n",
       "      <td>0</td>\n",
       "      <td>0</td>\n",
       "      <td>0</td>\n",
       "      <td>0</td>\n",
       "      <td>0</td>\n",
       "      <td>0</td>\n",
       "      <td>0</td>\n",
       "      <td>0</td>\n",
       "      <td>0</td>\n",
       "      <td>...</td>\n",
       "      <td>0</td>\n",
       "      <td>0</td>\n",
       "      <td>0</td>\n",
       "      <td>0</td>\n",
       "      <td>0</td>\n",
       "      <td>0</td>\n",
       "      <td>0</td>\n",
       "      <td>0</td>\n",
       "      <td>0</td>\n",
       "      <td>-1</td>\n",
       "    </tr>\n",
       "    <tr>\n",
       "      <th>2</th>\n",
       "      <td>20003</td>\n",
       "      <td>0</td>\n",
       "      <td>0</td>\n",
       "      <td>0</td>\n",
       "      <td>0</td>\n",
       "      <td>0</td>\n",
       "      <td>0</td>\n",
       "      <td>0</td>\n",
       "      <td>0</td>\n",
       "      <td>0</td>\n",
       "      <td>...</td>\n",
       "      <td>0</td>\n",
       "      <td>0</td>\n",
       "      <td>0</td>\n",
       "      <td>0</td>\n",
       "      <td>0</td>\n",
       "      <td>0</td>\n",
       "      <td>0</td>\n",
       "      <td>0</td>\n",
       "      <td>0</td>\n",
       "      <td>-1</td>\n",
       "    </tr>\n",
       "    <tr>\n",
       "      <th>3</th>\n",
       "      <td>20004</td>\n",
       "      <td>0</td>\n",
       "      <td>0</td>\n",
       "      <td>0</td>\n",
       "      <td>0</td>\n",
       "      <td>0</td>\n",
       "      <td>0</td>\n",
       "      <td>0</td>\n",
       "      <td>0</td>\n",
       "      <td>0</td>\n",
       "      <td>...</td>\n",
       "      <td>0</td>\n",
       "      <td>0</td>\n",
       "      <td>0</td>\n",
       "      <td>0</td>\n",
       "      <td>0</td>\n",
       "      <td>0</td>\n",
       "      <td>0</td>\n",
       "      <td>0</td>\n",
       "      <td>0</td>\n",
       "      <td>-1</td>\n",
       "    </tr>\n",
       "    <tr>\n",
       "      <th>4</th>\n",
       "      <td>20005</td>\n",
       "      <td>0</td>\n",
       "      <td>0</td>\n",
       "      <td>0</td>\n",
       "      <td>0</td>\n",
       "      <td>0</td>\n",
       "      <td>0</td>\n",
       "      <td>0</td>\n",
       "      <td>0</td>\n",
       "      <td>0</td>\n",
       "      <td>...</td>\n",
       "      <td>0</td>\n",
       "      <td>0</td>\n",
       "      <td>0</td>\n",
       "      <td>0</td>\n",
       "      <td>0</td>\n",
       "      <td>0</td>\n",
       "      <td>0</td>\n",
       "      <td>0</td>\n",
       "      <td>0</td>\n",
       "      <td>-1</td>\n",
       "    </tr>\n",
       "  </tbody>\n",
       "</table>\n",
       "<p>5 rows × 786 columns</p>\n",
       "</div>"
      ],
      "text/plain": [
       "   ident  1x1  1x2  1x3  1x4  1x5  1x6  1x7  1x8  1x9  ...  28x20  28x21  \\\n",
       "0  20001    0    0    0    0    0    0    0    0    0  ...      0      0   \n",
       "1  20002    0    0    0    0    0    0    0    0    0  ...      0      0   \n",
       "2  20003    0    0    0    0    0    0    0    0    0  ...      0      0   \n",
       "3  20004    0    0    0    0    0    0    0    0    0  ...      0      0   \n",
       "4  20005    0    0    0    0    0    0    0    0    0  ...      0      0   \n",
       "\n",
       "   28x22  28x23  28x24  28x25  28x26  28x27  28x28  label  \n",
       "0      0      0      0      0      0      0      0     -1  \n",
       "1      0      0      0      0      0      0      0     -1  \n",
       "2      0      0      0      0      0      0      0     -1  \n",
       "3      0      0      0      0      0      0      0     -1  \n",
       "4      0      0      0      0      0      0      0     -1  \n",
       "\n",
       "[5 rows x 786 columns]"
      ]
     },
     "execution_count": 5,
     "metadata": {},
     "output_type": "execute_result"
    }
   ],
   "source": [
    "test_data.head()"
   ]
  },
  {
   "cell_type": "code",
   "execution_count": 6,
   "metadata": {},
   "outputs": [],
   "source": [
    "X_test, y_test = test_data.iloc[:, 1:-1].values, test_data.iloc[:, -1].values\n",
    "X_train, y_train = train_data.iloc[:, 1:-1].values, train_data.iloc[:, -1].values"
   ]
  },
  {
   "cell_type": "code",
   "execution_count": 7,
   "metadata": {},
   "outputs": [
    {
     "data": {
      "image/png": "[encoded data removed]",
      "text/plain": [
       "<Figure size 432x288 with 4 Axes>"
      ]
     },
     "metadata": {
      "needs_background": "light"
     },
     "output_type": "display_data"
    }
   ],
   "source": [
    "indices = np.random.randint(0, len(X_test), 4)\n",
    "for index in range(len(indices)):\n",
    "    axis = plt.subplot(2,2,index+1)\n",
    "    axis.imshow(X_train[indices[index]].reshape(28,28))"
   ]
  },
  {
   "cell_type": "markdown",
   "metadata": {},
   "source": [
    "#### Preprocessing & Feature Scaling\n",
    "###### But: le but de cette étapes et principalement d'améliorer la qualité de nos donnée en éliminant les outliers, les valeur inconnues(remplacer par moyenne de la colonne correspondante) et aussi de mettre les données dans certain intervale \n",
    "###### 2 méthodes généralement plus utilisées: standardisation et normalisation \n",
    "###### Normalisation: $$\\frac{X - min(X)}{max(X) - min(X)}$$\n",
    "###### Standardisation: $$\\frac{X - mean(X)}{\\sigma(X)}$$\n",
    "###### Dans notre cas les valeurs sans dans l'intervale [0, 255] car ce sont des images en noir et blanc, donc une normalisation suffira\n",
    "###### Un autre bénefice de cette opération c'est que le classifieur converge plus vite car les valeurs elle seront entre 0 et 1, et donc un calcule plus rapide."
   ]
  },
  {
   "cell_type": "code",
   "execution_count": 8,
   "metadata": {},
   "outputs": [],
   "source": [
    "X_train = X_train /255\n",
    "X_test = X_test / 255"
   ]
  },
  {
   "cell_type": "markdown",
   "metadata": {},
   "source": [
    "### Expérimentation"
   ]
  },
  {
   "cell_type": "markdown",
   "metadata": {},
   "source": [
    "<h3 align=\"center\"> Binary Classification </h3>"
   ]
  },
  {
   "cell_type": "markdown",
   "metadata": {},
   "source": [
    "##### Linear Random\n",
    "\n",
    "Pour ce classifieur, on doit pas s'attendre à une bonne performance car, aucune optimization n'est réaliser sur les poids.\n",
    "Donc on fait que initialiser le vecteur $w$ et calculer le dot product\n",
    "$$\\hat y = w \\cdot x$$\n",
    "\n",
    "Et on compare $\\hat y $ à $y$\n",
    "\n",
    "tel que: x est un vecteur de données, y est le vrai label et $\\hat y$ est le label prédit"
   ]
  },
  {
   "cell_type": "code",
   "execution_count": 9,
   "metadata": {},
   "outputs": [
    {
     "name": "stdout",
     "output_type": "stream",
     "text": [
      "Pas d'apprentissage pour ce classifier !\n",
      "train accuracy:  38.2\n",
      "test accuracy:  36.7\n"
     ]
    }
   ],
   "source": [
    "# créer l'instance\n",
    "linear_random = cl.ClassifierLineaireRandom(784)\n",
    "# train avec X_train et y_train\n",
    "linear_random.train(X_train, y_train)\n",
    "# accuracy sur les données de train\n",
    "train_accuracy = linear_random.accuracy(X_train, y_train)\n",
    "print(\"train accuracy:  {}\".format(train_accuracy))\n",
    "# accuracy sur les données de test\n",
    "test_accuracy = linear_random.accuracy(X_test, y_test)\n",
    "print(\"test accuracy:  {}\".format(test_accuracy))\n",
    "# les 2 accuracy sont relativement proche malgré le faible résultat, \n",
    "# encore une fois cela est du au manque de l'optimization"
   ]
  },
  {
   "cell_type": "code",
   "execution_count": 10,
   "metadata": {},
   "outputs": [
    {
     "name": "stdout",
     "output_type": "stream",
     "text": [
      "Pas d'apprentissage pour ce classifier !\n",
      "Pas d'apprentissage pour ce classifier !\n",
      "Pas d'apprentissage pour ce classifier !\n",
      "Pas d'apprentissage pour ce classifier !\n",
      "Pas d'apprentissage pour ce classifier !\n",
      "Pas d'apprentissage pour ce classifier !\n",
      "Pas d'apprentissage pour ce classifier !\n",
      "Pas d'apprentissage pour ce classifier !\n",
      "Pas d'apprentissage pour ce classifier !\n",
      "Pas d'apprentissage pour ce classifier !\n",
      "Pas d'apprentissage pour ce classifier !\n",
      "Pas d'apprentissage pour ce classifier !\n",
      "Pas d'apprentissage pour ce classifier !\n",
      "Pas d'apprentissage pour ce classifier !\n",
      "Pas d'apprentissage pour ce classifier !\n",
      "Pas d'apprentissage pour ce classifier !\n",
      "Pas d'apprentissage pour ce classifier !\n",
      "Pas d'apprentissage pour ce classifier !\n",
      "Pas d'apprentissage pour ce classifier !\n",
      "Pas d'apprentissage pour ce classifier !\n",
      "Pas d'apprentissage pour ce classifier !\n",
      "Pas d'apprentissage pour ce classifier !\n",
      "Pas d'apprentissage pour ce classifier !\n",
      "Pas d'apprentissage pour ce classifier !\n",
      "Pas d'apprentissage pour ce classifier !\n",
      "Pas d'apprentissage pour ce classifier !\n",
      "Pas d'apprentissage pour ce classifier !\n",
      "Pas d'apprentissage pour ce classifier !\n",
      "Pas d'apprentissage pour ce classifier !\n",
      "Pas d'apprentissage pour ce classifier !\n",
      "{'ClassifierLineaireRandom': {'test_acc_list': [33.33333333333333, 33.33333333333333, 36.36363636363637, 33.33333333333333, 42.42424242424242, 42.42424242424242, 48.484848484848484, 39.39393939393939, 27.27272727272727, 39.39393939393939, 27.27272727272727, 45.45454545454545, 39.39393939393939, 54.54545454545454, 60.60606060606061, 51.515151515151516, 39.39393939393939, 51.515151515151516, 39.39393939393939, 54.54545454545454, 45.45454545454545, 51.515151515151516, 51.515151515151516, 42.42424242424242, 51.515151515151516, 39.39393939393939, 39.39393939393939, 45.45454545454545, 51.515151515151516, 63.63636363636363], 'train_acc_list': [44.40961337513062, 44.40961337513062, 44.30512016718913, 44.40961337513062, 44.09613375130617, 44.09613375130617, 43.8871473354232, 44.20062695924764, 44.61859979101359, 44.20062695924764, 44.61859979101359, 43.99164054336468, 47.24517906336088, 43.67816091954023, 43.46917450365726, 46.28099173553719, 44.20062695924764, 43.78265412748171, 44.20062695924764, 43.67816091954023, 43.99164054336468, 43.78265412748171, 43.99551066217733, 44.09613375130617, 46.28099173553719, 45.81818181818182, 44.20062695924764, 44.84848484848485, 46.2962962962963, 45.5988455988456], 'train_acc': 44.55628035676798, 'train_std': 0.9254848264492518, 'test_std': 8.87740304756357, 'test_acc': 44.04040404040405}}\n"
     ]
    }
   ],
   "source": [
    "# cross validation des résulats\n",
    "results = evals.cross_validation([linear_random], X_train, y_train, 30)\n",
    "print(results)"
   ]
  },
  {
   "cell_type": "code",
   "execution_count": 11,
   "metadata": {},
   "outputs": [],
   "source": [
    "def plot_train_accuracy_vs_test_accuracy(dictionary, classifier_name):\n",
    "    dikt = dictionary[classifier_name]\n",
    "    train = dikt['train_acc_list']\n",
    "    test = dikt['test_acc_list']\n",
    "    plt.xlabel(\"k-th fold\")\n",
    "    plt.ylabel(\"accuracy\")\n",
    "    plt.suptitle(\"cross validation\")\n",
    "    plt.title(\"train accuracy vs test accuracy\")\n",
    "    plt.plot(train, label=\"train accuracy\")\n",
    "    plt.plot(test, label=\"test accuracy\")\n",
    "    plt.legend()\n",
    "    plt.show()"
   ]
  },
  {
   "cell_type": "code",
   "execution_count": 12,
   "metadata": {},
   "outputs": [],
   "source": [
    "def predict_and_save(file_name, columns, cl):\n",
    "    eval_data = pd.read_csv('eval.csv', sep=\";\", names=columns,)\n",
    "    X = eval_data.iloc[:,1:-1].values\n",
    "    predicted = []\n",
    "    for x in (X):\n",
    "        predicted.append(cl.predict(x))\n",
    "    eval_data[\"label\"] = predicted\n",
    "    eval_data[['ident', 'label']].to_csv(file_name, sep=\";\", index=False)"
   ]
  },
  {
   "cell_type": "code",
   "execution_count": 13,
   "metadata": {},
   "outputs": [],
   "source": [
    "predict_and_save('resultat-1.csv', colums, linear_random)"
   ]
  },
  {
   "cell_type": "code",
   "execution_count": 14,
   "metadata": {},
   "outputs": [
    {
     "data": {
      "image/png": "[encoded data removed]",
      "text/plain": [
       "<Figure size 432x288 with 1 Axes>"
      ]
     },
     "metadata": {
      "needs_background": "light"
     },
     "output_type": "display_data"
    }
   ],
   "source": [
    "plot_train_accuracy_vs_test_accuracy(results, cl.ClassifierLineaireRandom.__name__)\n",
    "# avec un 30-fold cross validation on obtien ce graphe, \n",
    "# on vois bien que l'accuracy de train reste relativement constante\n",
    "# par contre on voit dans l'accuracy de test il y'a beaucoup de variance \n",
    "# donc notre modéle est en underfitting\n",
    "# mais cela est dû au faite de ne pas réaliser d'optimisation sur les poids."
   ]
  },
  {
   "cell_type": "markdown",
   "metadata": {},
   "source": [
    "#### KNN\n",
    "Est un algorithme qui appartiens à la famille de Lazy Algorithms, i.e la phase d'apprentissage est retardé, jusqu'à ce que une requête est reçu.\n",
    "\n",
    "Une nouvelle donnée sera de classe de celle qui a plus de vote parmi les k plus proches voisins\n",
    "<img src=\"knn.png\">\n"
   ]
  },
  {
   "cell_type": "code",
   "execution_count": 15,
   "metadata": {},
   "outputs": [
    {
     "name": "stdout",
     "output_type": "stream",
     "text": [
      "train accuracy:  95.1\n",
      "test accuracy:  94.19999999999999\n"
     ]
    }
   ],
   "source": [
    "# créer l'instance\n",
    "knn = cl.ClassifierKNN(784, 15)\n",
    "# train avec X_train et y_train\n",
    "knn.train(X_train, y_train)\n",
    "# accuracy sur les données de train\n",
    "train_accuracy = knn.accuracy(X_train, y_train)\n",
    "print(\"train accuracy:  {}\".format(train_accuracy))\n",
    "# accuracy sur les données de test\n",
    "test_accuracy = knn.accuracy(X_test, y_test)\n",
    "print(\"test accuracy:  {}\".format(test_accuracy))"
   ]
  },
  {
   "cell_type": "code",
   "execution_count": 16,
   "metadata": {},
   "outputs": [
    {
     "name": "stdout",
     "output_type": "stream",
     "text": [
      "{'ClassifierKNN': {'test_acc_list': [78.78787878787878, 87.87878787878788, 87.87878787878788, 81.81818181818183, 96.96969696969697, 81.81818181818183, 90.9090909090909, 100.0, 96.96969696969697, 96.96969696969697, 100.0, 96.96969696969697, 93.93939393939394, 100.0, 96.96969696969697, 100.0, 100.0, 100.0, 100.0, 100.0, 100.0, 100.0, 100.0, 100.0, 100.0, 100.0, 100.0, 100.0, 100.0, 100.0], 'train_acc_list': [96.86520376175548, 96.760710553814, 96.65621734587252, 96.65621734587252, 96.55172413793103, 97.17868338557993, 96.86520376175548, 96.55172413793103, 96.96969696969697, 96.55172413793103, 96.65621734587252, 96.65621734587252, 96.65621734587252, 96.55172413793103, 96.65621734587252, 96.55172413793103, 96.55172413793103, 96.55172413793103, 96.55172413793103, 96.55172413793103, 96.55172413793103, 97.85353535353535, 96.55172413793103, 96.55172413793103, 96.55172413793103, 96.55172413793103, 97.34848484848484, 97.92663476874003, 96.55172413793103, 96.63299663299664], 'train_acc': 96.75381053935199, 'train_std': 0.35939131706332483, 'test_std': 6.194645699580593, 'test_acc': 96.26262626262627}}\n"
     ]
    }
   ],
   "source": [
    "# cross validation des résulats\n",
    "results = evals.cross_validation([knn], X_train, y_train, 30)\n",
    "print(results)"
   ]
  },
  {
   "cell_type": "code",
   "execution_count": 17,
   "metadata": {},
   "outputs": [
    {
     "data": {
      "image/png": "[encoded data removed]",
      "text/plain": [
       "<Figure size 432x288 with 1 Axes>"
      ]
     },
     "metadata": {
      "needs_background": "light"
     },
     "output_type": "display_data"
    }
   ],
   "source": [
    "plot_train_accuracy_vs_test_accuracy(results, knn.__class__.__name__)"
   ]
  },
  {
   "cell_type": "code",
   "execution_count": 18,
   "metadata": {},
   "outputs": [],
   "source": [
    "predict_and_save('resultat-2.csv', colums, knn)"
   ]
  },
  {
   "cell_type": "markdown",
   "metadata": {},
   "source": [
    "#### Perceptron \n",
    "Le perceptron est l'un permier algorithmes d'apprentissage automatique développé par Frank Rosenblatt.\n",
    "\n",
    "L'algorithme consiste à calculer le dot product $w\\cdot x$ entre toutes les données et le vecteur de poids associé, contrairement au Linear Random, il possède un paramétre $\\delta$, ce dernier est le learning rate  qui permet de fixer la taille du pas lors de la décente vers le minimume de la fonction d'erreur, utilisé dans la  phase d'optimization qui permet d'ajuster le vecteur $w$, de ce fait améliorer la classificaton.\n",
    "\n",
    "L'optimzation:\n",
    "$$ w_{optimized} = w_{old} - \\delta * x_{i} * y_{i} $$"
   ]
  },
  {
   "cell_type": "code",
   "execution_count": 19,
   "metadata": {},
   "outputs": [
    {
     "name": "stdout",
     "output_type": "stream",
     "text": [
      "train accuracy:  83.5\n",
      "test accuracy:  81.3\n"
     ]
    }
   ],
   "source": [
    "# créer l'instance\n",
    "perceptron = cl.ClassifierPerceptron(784, 0.01)\n",
    "# train avec X_train et y_train\n",
    "perceptron.train(X_train, y_train)\n",
    "# accuracy sur les données de train\n",
    "train_accuracy = perceptron.accuracy(X_train, y_train)\n",
    "print(\"train accuracy:  {}\".format(train_accuracy))\n",
    "# accuracy sur les données de test\n",
    "test_accuracy = perceptron.accuracy(X_test, y_test)\n",
    "print(\"test accuracy:  {}\".format(test_accuracy))"
   ]
  },
  {
   "cell_type": "code",
   "execution_count": 20,
   "metadata": {},
   "outputs": [
    {
     "name": "stdout",
     "output_type": "stream",
     "text": [
      "{'ClassifierPerceptron': {'test_acc_list': [65.0, 75.0, 90.0, 85.0, 90.0, 100.0, 100.0, 100.0, 100.0, 100.0, 95.0, 100.0, 100.0, 95.0, 95.0, 100.0, 100.0, 95.0, 100.0, 95.0, 100.0, 100.0, 100.0, 100.0, 100.0, 100.0, 100.0, 100.0, 100.0, 100.0, 100.0, 100.0, 100.0, 100.0, 100.0, 100.0, 100.0, 100.0, 100.0, 100.0, 100.0, 100.0, 100.0, 100.0, 100.0, 100.0, 100.0, 100.0, 100.0, 100.0], 'train_acc_list': [95.51020408163265, 96.0204081632653, 96.42857142857143, 96.73469387755102, 97.34693877551021, 95.10204081632652, 96.63265306122449, 98.26530612244898, 98.57142857142858, 98.57142857142858, 98.87755102040816, 99.08163265306122, 98.9795918367347, 99.18367346938776, 98.57142857142858, 98.87755102040816, 99.38775510204081, 99.28571428571429, 99.89795918367346, 99.18367346938776, 99.48979591836735, 99.89795918367346, 99.6938775510204, 98.9795918367347, 99.79591836734694, 99.89795918367346, 99.6938775510204, 99.79591836734694, 100.0, 100.0, 100.0, 100.0, 100.0, 100.0, 100.0, 100.0, 100.0, 100.0, 100.0, 100.0, 100.0, 100.0, 100.0, 100.0, 100.0, 100.0, 100.0, 100.0, 100.0, 100.0], 'train_acc': 99.15510204081633, 'train_std': 1.2918609147558107, 'test_std': 6.499230723708768, 'test_acc': 97.6}}\n"
     ]
    }
   ],
   "source": [
    "# cross validation des résulats\n",
    "results = evals.cross_validation([perceptron], X_train, y_train, 50)\n",
    "print(results)"
   ]
  },
  {
   "cell_type": "code",
   "execution_count": 21,
   "metadata": {},
   "outputs": [
    {
     "data": {
      "image/png": "[encoded data removed]",
      "text/plain": [
       "<Figure size 432x288 with 1 Axes>"
      ]
     },
     "metadata": {
      "needs_background": "light"
     },
     "output_type": "display_data"
    }
   ],
   "source": [
    "plot_train_accuracy_vs_test_accuracy(results, perceptron.__class__.__name__)"
   ]
  },
  {
   "cell_type": "code",
   "execution_count": 22,
   "metadata": {},
   "outputs": [],
   "source": [
    "predict_and_save('resulat-2.csv', colums, perceptron)"
   ]
  },
  {
   "cell_type": "markdown",
   "metadata": {},
   "source": [
    "#### KMeans\n",
    "Kmeans est un algorithme de clustering, il appartiens à la famille des algorithmes non supervisé\n",
    "\n",
    "l'algorithme\n",
    "\n",
    "<ol>\n",
    "    <li> initialisé k centroids, généralement soit aléatoire soit avec la méthode kmeans++</li>\n",
    "    <li> calculer la distance entre chaque observation et chaque cluster</li>\n",
    "    <li> affecter l'observation au cluster le plus proche </li>\n",
    "    <li> mettre à jour les clusters comme étant la moyenne de toutes les données au sein du cluster</li>\n",
    "    <li> si les cluters n'ont pas changés alors on stop la procedure sinon, on refait les étapes 2-4 </li>\n",
    "</ol>    \n",
    "<img src=\"kmeans.webp\">\n"
   ]
  },
  {
   "cell_type": "markdown",
   "metadata": {},
   "source": [
    "##### Note: dans le cas de la classification binaire on transforme la classe -1 en classe 0 après on fait la conversion à nouveau"
   ]
  },
  {
   "cell_type": "code",
   "execution_count": 23,
   "metadata": {},
   "outputs": [],
   "source": [
    "from models import KMeans, SVMClassifier"
   ]
  },
  {
   "cell_type": "code",
   "execution_count": 24,
   "metadata": {},
   "outputs": [],
   "source": [
    "kmeans = KMeans(784)\n",
    "# training\n",
    "kmeans.train(X_train)"
   ]
  },
  {
   "cell_type": "code",
   "execution_count": 25,
   "metadata": {},
   "outputs": [],
   "source": [
    "# pas d'accuracy pour les algorithmes de clustering \n",
    "eval_data = pd.read_csv('eval.csv', sep=\";\", names=colums)\n",
    "X = eval_data.iloc[:,1:-1].values\n",
    "predicted = []\n",
    "for x in (X):\n",
    "    predicted.append(kmeans.predict(x))\n",
    "predicted = np.array(predicted)\n",
    "predicted[predicted == 0] = -1\n",
    "eval_data[\"label\"] = predicted\n",
    "eval_data[['ident', 'label']].to_csv(\"resutlat-3.csv\", sep=\";\", index=False)"
   ]
  },
  {
   "cell_type": "markdown",
   "metadata": {},
   "source": [
    "##### pour trouver le K il faut utiliser Elbow Methode qui consiste à choisire le K qui engendere le min de distant au sein des clusters, connu sous le nom Within Cluster Sum Square\n"
   ]
  },
  {
   "cell_type": "code",
   "execution_count": null,
   "metadata": {},
   "outputs": [],
   "source": [
    "wcss = []\n",
    "for i in range(2,11):\n",
    "    kmeans = KMeans(784, k=i)\n",
    "    # training\n",
    "    kmeans.train(X_train)\n",
    "    wcss.append(kmeans.interia)\n",
    "plt.plot(range(2, 20), wcss)\n",
    "plt.ylabel('WCSS')\n",
    "plt.xlabel(\"K\")\n",
    "plt.title(\"Elbow Method\")"
   ]
  },
  {
   "cell_type": "markdown",
   "metadata": {},
   "source": [
    "en vrai on dispose de 10 classe de 0-9 donc le K le plus approprié est 10, qui sera le cas dans une mutli-classification "
   ]
  },
  {
   "cell_type": "markdown",
   "metadata": {},
   "source": [
    "#### Support Vector Machines\n",
    "Développé par Vapkin, c'est un classifieur basé sur un hyperplant, le but est de trouver ce dernier de sort à maximiser la marge entre les différentes classes. On offre une implémentation basé sur l'algorithme <a href=\"https://www.cs.huji.ac.il/~shais/papers/ShalevSiSrCo10.pdf\">PEGASOS</a>\n",
    "\n",
    "<img src=\"svm.png\">"
   ]
  },
  {
   "cell_type": "code",
   "execution_count": 28,
   "metadata": {},
   "outputs": [
    {
     "name": "stdout",
     "output_type": "stream",
     "text": [
      "train accuracy:  82.89999999999999\n",
      "test accuracy:  81.2\n"
     ]
    }
   ],
   "source": [
    "# créer l'instance\n",
    "svm = SVMClassifier(784)\n",
    "# train avec X_train et y_train\n",
    "svm.train(X_train, y_train)\n",
    "# accuracy sur les données de train\n",
    "train_accuracy = svm.accuracy(X_train, y_train)\n",
    "print(\"train accuracy:  {}\".format(train_accuracy))\n",
    "# accuracy sur les données de test\n",
    "test_accuracy = svm.accuracy(X_test, y_test)\n",
    "print(\"test accuracy:  {}\".format(test_accuracy))"
   ]
  },
  {
   "cell_type": "code",
   "execution_count": 29,
   "metadata": {},
   "outputs": [
    {
     "name": "stdout",
     "output_type": "stream",
     "text": [
      "{'SVMClassifier': {'test_acc_list': [69.6969696969697, 87.87878787878788, 78.78787878787878, 84.84848484848484, 96.96969696969697, 90.9090909090909, 93.93939393939394, 96.96969696969697, 93.93939393939394, 90.9090909090909, 93.93939393939394, 100.0, 96.96969696969697, 100.0, 60.60606060606061, 100.0, 96.96969696969697, 100.0, 96.96969696969697, 100.0, 90.9090909090909, 100.0, 100.0, 93.93939393939394, 100.0, 96.96969696969697, 100.0, 90.9090909090909, 100.0, 100.0], 'train_acc_list': [94.67084639498434, 96.02925809822361, 96.96969696969697, 96.1337513061651, 93.73040752351098, 96.02925809822361, 93.73040752351098, 94.98432601880877, 95.92476489028213, 94.98834498834499, 90.07314524555903, 94.77533960292581, 95.40229885057471, 95.71577847439916, 78.99686520376176, 95.29780564263322, 95.29780564263322, 97.3876698014629, 96.23824451410658, 94.98432601880877, 95.19331243469175, 96.34273772204807, 93.83490073145245, 96.84343434343434, 90.70010449320795, 95.19331243469175, 94.77533960292581, 94.67084639498434, 95.92476489028213, 94.44444444444444], 'train_acc': 94.50945127669266, 'train_std': 3.2619431758172897, 'test_std': 9.19413892612009, 'test_acc': 93.43434343434343}}\n"
     ]
    }
   ],
   "source": [
    "results = evals.cross_validation([svm], X_train, y_train, 30)\n",
    "print(results)"
   ]
  },
  {
   "cell_type": "code",
   "execution_count": 30,
   "metadata": {},
   "outputs": [
    {
     "data": {
      "image/png": "[encoded data removed]",
      "text/plain": [
       "<Figure size 432x288 with 1 Axes>"
      ]
     },
     "metadata": {
      "needs_background": "light"
     },
     "output_type": "display_data"
    }
   ],
   "source": [
    "plot_train_accuracy_vs_test_accuracy(results, svm.__class__.__name__)"
   ]
  },
  {
   "cell_type": "code",
   "execution_count": 31,
   "metadata": {},
   "outputs": [],
   "source": [
    "predict_and_save(\"resultat-4.csv\", colums, svm)"
   ]
  },
  {
   "cell_type": "markdown",
   "metadata": {},
   "source": [
    "<h4 align='center'> Multi Classe Classification </h4>"
   ]
  },
  {
   "cell_type": "code",
   "execution_count": 32,
   "metadata": {},
   "outputs": [],
   "source": [
    "kmeans = KMeans(784, k=10)\n",
    "# training\n",
    "kmeans.train(X_train)"
   ]
  },
  {
   "cell_type": "code",
   "execution_count": 33,
   "metadata": {},
   "outputs": [],
   "source": [
    "predict_and_save(\"resultat-5.csv\", colums, kmeans)"
   ]
  },
  {
   "cell_type": "markdown",
   "metadata": {},
   "source": []
  }
 ],
 "metadata": {
  "kernelspec": {
   "display_name": "Python 3",
   "language": "python",
   "name": "python3"
  },
  "language_info": {
   "codemirror_mode": {
    "name": "ipython",
    "version": 3
   },
   "file_extension": ".py",
   "mimetype": "text/x-python",
   "name": "python",
   "nbconvert_exporter": "python",
   "pygments_lexer": "ipython3",
   "version": "3.6.8"
  }
 },
 "nbformat": 4,
 "nbformat_minor": 2
}
